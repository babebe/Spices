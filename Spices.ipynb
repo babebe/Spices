{
 "cells": [
  {
   "cell_type": "code",
   "execution_count": 1,
   "metadata": {
    "collapsed": true
   },
   "outputs": [],
   "source": [
    "import urllib\n",
    "from bs4 import BeautifulSoup"
   ]
  },
  {
   "cell_type": "code",
   "execution_count": 57,
   "metadata": {
    "collapsed": false
   },
   "outputs": [],
   "source": [
    "url = \"https://ethiopianspices.com/collections/all\"\n",
    "html = urllib.urlopen(url).read()\n",
    "soup = BeautifulSoup(html,'lxml')"
   ]
  },
  {
   "cell_type": "code",
   "execution_count": 58,
   "metadata": {
    "collapsed": true
   },
   "outputs": [],
   "source": [
    "text = soup.get_text()"
   ]
  },
  {
   "cell_type": "code",
   "execution_count": 59,
   "metadata": {
    "collapsed": false
   },
   "outputs": [],
   "source": [
    "lines = (line.strip() for line in text.splitlines())\n",
    "# break multi-headlines into a line each\n",
    "chunks = (phrase.strip() for line in lines for phrase in line.split(\"  \"))\n",
    "# drop blank lines\n",
    "text = '\\n'.join(chunk for chunk in chunks if chunk)"
   ]
  },
  {
   "cell_type": "code",
   "execution_count": 60,
   "metadata": {
    "collapsed": true
   },
   "outputs": [],
   "source": [
    "from lxml import html\n",
    "import requests"
   ]
  },
  {
   "cell_type": "code",
   "execution_count": 61,
   "metadata": {
    "collapsed": true
   },
   "outputs": [],
   "source": [
    "page = requests.get('https://ethiopianspices.com/collections/all')\n",
    "tree = html.fromstring(page.content)"
   ]
  },
  {
   "cell_type": "code",
   "execution_count": 83,
   "metadata": {
    "collapsed": false
   },
   "outputs": [],
   "source": [
    "## product=<div class=\"h4 grid-view-item__title product-card__title\" aria-hidden=\"true\">Berbere</div>\n",
    "##price:  <span class=\"price-item price-item--sale\" data-sale-price=\"\">$9.50</span>\n",
    "#This will create a list of products:\n",
    "product = tree.xpath('//div[@class=\"h4 grid-view-item__title product-card__title\"]/text()')\n",
    "#This will create a list of prices\n",
    "prices = tree.xpath('//span[@class=\"price-item price-item--sale\"]/text()')\n"
   ]
  },
  {
   "cell_type": "code",
   "execution_count": 84,
   "metadata": {
    "collapsed": false
   },
   "outputs": [
    {
     "data": {
      "text/plain": [
       "'$9.75'"
      ]
     },
     "execution_count": 84,
     "metadata": {},
     "output_type": "execute_result"
    }
   ],
   "source": [
    "#strip new line\n",
    "_prices=[price.strip() for price in prices]\n",
    "_prices[0]"
   ]
  },
  {
   "cell_type": "code",
   "execution_count": 85,
   "metadata": {
    "collapsed": false
   },
   "outputs": [
    {
     "name": "stdout",
     "output_type": "stream",
     "text": [
      "Product: Alicha Kimem\n",
      "Price: $9.75\n"
     ]
    }
   ],
   "source": [
    "print 'Product: %s' %product[0]\n",
    "print 'Price: %s' %_prices[0]"
   ]
  },
  {
   "cell_type": "code",
   "execution_count": 86,
   "metadata": {
    "collapsed": false
   },
   "outputs": [
    {
     "data": {
      "text/plain": [
       "9.75"
      ]
     },
     "execution_count": 86,
     "metadata": {},
     "output_type": "execute_result"
    }
   ],
   "source": [
    "#convert price to float type\n",
    "prices=[float(price.split('$')[1]) for price in _prices]\n",
    "prices[0]"
   ]
  },
  {
   "cell_type": "code",
   "execution_count": 87,
   "metadata": {
    "collapsed": false
   },
   "outputs": [],
   "source": [
    "#create a dataframe\n",
    "import pandas as pd\n",
    "df_price= pd.DataFrame({'spice':product,\n",
    "                      'price':prices,\n",
    "                       'unit size': '8oz'}, columns=['spice','price', 'unit size'])"
   ]
  },
  {
   "cell_type": "code",
   "execution_count": 88,
   "metadata": {
    "collapsed": false
   },
   "outputs": [],
   "source": [
    "#change engera Unite Size\n",
    "df_price.loc[7,'unit size'] = '10pcs'"
   ]
  },
  {
   "cell_type": "code",
   "execution_count": 89,
   "metadata": {
    "collapsed": true
   },
   "outputs": [],
   "source": [
    "#SAVE TO EXCELL \n",
    "# Create a Pandas Excel writer using XlsxWriter as the engine.\n",
    "writer = pd.ExcelWriter('Spice_List_Price_US.xlsx', engine='xlsxwriter')\n",
    "\n",
    "# Convert the dataframe to an XlsxWriter Excel object.\n",
    "df_price.to_excel(writer, sheet_name='EthiopianSpices.com')\n",
    "\n",
    "# Close the Pandas Excel writer and output the Excel file.\n",
    "writer.save()"
   ]
  },
  {
   "cell_type": "code",
   "execution_count": 90,
   "metadata": {
    "collapsed": false
   },
   "outputs": [],
   "source": [
    "#Add new sheet with source\n",
    "#import excell sheet\n",
    "from openpyxl import load_workbook\n",
    "path = u\"/Users/bruktawitabebe/Desktop/Spice/Spice_List_Price_US.xlsx\"\n",
    "book = load_workbook(path)\n",
    "writer = pd.ExcelWriter(path, engine = 'openpyxl')\n",
    "writer.book = book\n"
   ]
  },
  {
   "cell_type": "code",
   "execution_count": 91,
   "metadata": {
    "collapsed": false
   },
   "outputs": [],
   "source": [
    "#write new df_source to excell file\n",
    "_dict= {'name': 'Ethio Imports LLC',\n",
    "                       'source':'ethiopianspices.com',\n",
    "                       'email':'ethiospiceimports@gmail.com',\n",
    "                       'phone': '502-459-6301/502-243-5472',\n",
    "                       'delivery_time_days': '3-7'}\n",
    "source = pd.DataFrame({k: [v] for k, v in _dict.items()},columns=['name','source','email','phone','delivery_time_days'])"
   ]
  },
  {
   "cell_type": "code",
   "execution_count": 92,
   "metadata": {
    "collapsed": false
   },
   "outputs": [],
   "source": [
    "# Convert the dataframe to an XlsxWriter Excel object.\n",
    "source.to_excel(writer, sheet_name='Source')\n",
    "writer.save()"
   ]
  },
  {
   "cell_type": "code",
   "execution_count": 93,
   "metadata": {
    "collapsed": false
   },
   "outputs": [
    {
     "data": {
      "text/html": [
       "<div>\n",
       "<table border=\"1\" class=\"dataframe\">\n",
       "  <thead>\n",
       "    <tr style=\"text-align: right;\">\n",
       "      <th></th>\n",
       "      <th>name</th>\n",
       "      <th>source</th>\n",
       "      <th>email</th>\n",
       "      <th>phone</th>\n",
       "      <th>delivery_time_days</th>\n",
       "    </tr>\n",
       "  </thead>\n",
       "  <tbody>\n",
       "    <tr>\n",
       "      <th>0</th>\n",
       "      <td>Ethio Imports LLC</td>\n",
       "      <td>ethiopianspices.com</td>\n",
       "      <td>ethiospiceimports@gmail.com</td>\n",
       "      <td>502-459-6301/502-243-5472</td>\n",
       "      <td>3-7</td>\n",
       "    </tr>\n",
       "  </tbody>\n",
       "</table>\n",
       "</div>"
      ],
      "text/plain": [
       "                name               source                        email  \\\n",
       "0  Ethio Imports LLC  ethiopianspices.com  ethiospiceimports@gmail.com   \n",
       "\n",
       "                       phone delivery_time_days  \n",
       "0  502-459-6301/502-243-5472                3-7  "
      ]
     },
     "execution_count": 93,
     "metadata": {},
     "output_type": "execute_result"
    }
   ],
   "source": [
    "#read source sheet\n",
    "pd.read_excel('Spice_List_Price_US.xlsx',sheetname='Source')"
   ]
  },
  {
   "cell_type": "code",
   "execution_count": 94,
   "metadata": {
    "collapsed": false
   },
   "outputs": [
    {
     "data": {
      "text/html": [
       "<div>\n",
       "<table border=\"1\" class=\"dataframe\">\n",
       "  <thead>\n",
       "    <tr style=\"text-align: right;\">\n",
       "      <th></th>\n",
       "      <th>spice</th>\n",
       "      <th>price</th>\n",
       "      <th>unit size</th>\n",
       "    </tr>\n",
       "  </thead>\n",
       "  <tbody>\n",
       "    <tr>\n",
       "      <th>0</th>\n",
       "      <td>Alicha Kimem</td>\n",
       "      <td>9.75</td>\n",
       "      <td>8oz</td>\n",
       "    </tr>\n",
       "    <tr>\n",
       "      <th>1</th>\n",
       "      <td>Berbere</td>\n",
       "      <td>9.50</td>\n",
       "      <td>8oz</td>\n",
       "    </tr>\n",
       "    <tr>\n",
       "      <th>2</th>\n",
       "      <td>Berbere Awaze</td>\n",
       "      <td>10.50</td>\n",
       "      <td>8oz</td>\n",
       "    </tr>\n",
       "    <tr>\n",
       "      <th>3</th>\n",
       "      <td>Beso Bela</td>\n",
       "      <td>11.50</td>\n",
       "      <td>8oz</td>\n",
       "    </tr>\n",
       "    <tr>\n",
       "      <th>4</th>\n",
       "      <td>Coffee Beans</td>\n",
       "      <td>7.50</td>\n",
       "      <td>8oz</td>\n",
       "    </tr>\n",
       "  </tbody>\n",
       "</table>\n",
       "</div>"
      ],
      "text/plain": [
       "           spice  price unit size\n",
       "0   Alicha Kimem   9.75       8oz\n",
       "1        Berbere   9.50       8oz\n",
       "2  Berbere Awaze  10.50       8oz\n",
       "3      Beso Bela  11.50       8oz\n",
       "4   Coffee Beans   7.50       8oz"
      ]
     },
     "execution_count": 94,
     "metadata": {},
     "output_type": "execute_result"
    }
   ],
   "source": [
    "pd.read_excel('Spice_List_Price_US.xlsx',sheetname='EthiopianSpices.com').head()"
   ]
  },
  {
   "cell_type": "code",
   "execution_count": 95,
   "metadata": {
    "collapsed": true
   },
   "outputs": [],
   "source": [
    "#2nd data source read html\n",
    "page = requests.get('http://www.goorsha.net/essential-ethiopian-spices/')\n",
    "tree = html.fromstring(page.content)\n",
    "#This will create a list of products:\n",
    "product = tree.xpath('//div[@class=\"h4 grid-view-item__title product-card__title\"]/text()')\n",
    "#This will create a list of prices\n",
    "prices = tree.xpath('//span[@class=\"price-item price-item--sale\"]/text()')"
   ]
  },
  {
   "cell_type": "code",
   "execution_count": 96,
   "metadata": {
    "collapsed": false
   },
   "outputs": [],
   "source": [
    "import lxml.html as lh\n",
    "url='http://www.goorsha.net/essential-ethiopian-spices/'\n",
    "#Create a handle, page, to handle the contents of the website\n",
    "page = requests.get(url)\n",
    "#Store the contents of the website under doc\n",
    "doc = lh.fromstring(page.content)\n",
    "#Parse data that are stored between <tr>..</tr> of HTML\n",
    "tr_elements = doc.xpath('//tr')"
   ]
  },
  {
   "cell_type": "code",
   "execution_count": 97,
   "metadata": {
    "collapsed": false
   },
   "outputs": [
    {
     "data": {
      "text/plain": [
       "[4, 4, 4, 4, 4, 4, 4, 4, 4, 4, 4, 4]"
      ]
     },
     "execution_count": 97,
     "metadata": {},
     "output_type": "execute_result"
    }
   ],
   "source": [
    "[len(T) for T in tr_elements[:12]]"
   ]
  },
  {
   "cell_type": "code",
   "execution_count": 98,
   "metadata": {
    "collapsed": false
   },
   "outputs": [
    {
     "name": "stdout",
     "output_type": "stream",
     "text": [
      "1:\"INGREDIENT\"\n",
      "2:\"AMHARIC NAME\"\n",
      "3:\"LATIN NAME\"\n",
      "4:\"ORIGIN\"\n"
     ]
    }
   ],
   "source": [
    "#Create empty list\n",
    "col=[]\n",
    "i=0\n",
    "#For each row, store each first element (header) and an empty list\n",
    "for t in tr_elements[0]:\n",
    "    i+=1\n",
    "    name=t.text_content()\n",
    "    print '%d:\"%s\"'%(i,name)\n",
    "    col.append((name,[]))"
   ]
  },
  {
   "cell_type": "code",
   "execution_count": 99,
   "metadata": {
    "collapsed": true
   },
   "outputs": [],
   "source": [
    "#Since out first row is the header, data is stored on the second row onwards\n",
    "for j in range(1,len(tr_elements)):\n",
    "    #T is our j'th row\n",
    "    T=tr_elements[j]\n",
    "    \n",
    "    #If row is not of size 10, the //tr data is not from our table \n",
    "    if len(T)!=4:\n",
    "        break\n",
    "    \n",
    "    #i is the index of our column\n",
    "    i=0\n",
    "    \n",
    "    #Iterate through each element of the row\n",
    "    for t in T.iterchildren():\n",
    "        data=t.text_content() \n",
    "        #Check if row is empty\n",
    "        if i>0:\n",
    "        #Convert any numerical value to integers\n",
    "            try:\n",
    "                data=int(data)\n",
    "            except:\n",
    "                pass\n",
    "        #Append the data to the empty list of the i'th column\n",
    "        col[i][1].append(data)\n",
    "        #Increment i for the next column\n",
    "        i+=1\n"
   ]
  },
  {
   "cell_type": "code",
   "execution_count": 100,
   "metadata": {
    "collapsed": true
   },
   "outputs": [],
   "source": [
    "Dict={title:column for (title,column) in col}\n",
    "df=pd.DataFrame(Dict)"
   ]
  },
  {
   "cell_type": "code",
   "execution_count": 101,
   "metadata": {
    "collapsed": false
   },
   "outputs": [
    {
     "data": {
      "text/html": [
       "<div>\n",
       "<table border=\"1\" class=\"dataframe\">\n",
       "  <thead>\n",
       "    <tr style=\"text-align: right;\">\n",
       "      <th></th>\n",
       "      <th>AMHARIC NAME</th>\n",
       "      <th>INGREDIENT</th>\n",
       "      <th>LATIN NAME</th>\n",
       "      <th>ORIGIN</th>\n",
       "    </tr>\n",
       "  </thead>\n",
       "  <tbody>\n",
       "    <tr>\n",
       "      <th>0</th>\n",
       "      <td>Netch Azmud</td>\n",
       "      <td>Bishop’s Weed, Ajowan</td>\n",
       "      <td>Trachyspermum ammi</td>\n",
       "      <td>Asia</td>\n",
       "    </tr>\n",
       "    <tr>\n",
       "      <th>1</th>\n",
       "      <td>Mit’mita</td>\n",
       "      <td>African birdseye pepper, periperi</td>\n",
       "      <td>Capsicum frutescens (cultivar variet</td>\n",
       "      <td>South America</td>\n",
       "    </tr>\n",
       "  </tbody>\n",
       "</table>\n",
       "</div>"
      ],
      "text/plain": [
       "  AMHARIC NAME                         INGREDIENT  \\\n",
       "0  Netch Azmud              Bishop’s Weed, Ajowan   \n",
       "1     Mit’mita  African birdseye pepper, periperi   \n",
       "\n",
       "                             LATIN NAME         ORIGIN  \n",
       "0                    Trachyspermum ammi           Asia  \n",
       "1  Capsicum frutescens (cultivar variet  South America  "
      ]
     },
     "execution_count": 101,
     "metadata": {},
     "output_type": "execute_result"
    }
   ],
   "source": [
    "df.head(2)"
   ]
  },
  {
   "cell_type": "code",
   "execution_count": 102,
   "metadata": {
    "collapsed": false
   },
   "outputs": [
    {
     "data": {
      "text/html": [
       "<div>\n",
       "<table border=\"1\" class=\"dataframe\">\n",
       "  <thead>\n",
       "    <tr style=\"text-align: right;\">\n",
       "      <th></th>\n",
       "      <th>AMHARIC NAME</th>\n",
       "      <th>INGREDIENT</th>\n",
       "      <th>LATIN NAME</th>\n",
       "      <th>ORIGIN</th>\n",
       "    </tr>\n",
       "  </thead>\n",
       "  <tbody>\n",
       "    <tr>\n",
       "      <th>0</th>\n",
       "      <td>Netch Azmud</td>\n",
       "      <td>Bishop’s Weed, Ajowan</td>\n",
       "      <td>Trachyspermum ammi</td>\n",
       "      <td>Asia</td>\n",
       "    </tr>\n",
       "    <tr>\n",
       "      <th>1</th>\n",
       "      <td>Mit’mita</td>\n",
       "      <td>African birdseye pepper, periperi</td>\n",
       "      <td>Capsicum frutescens (cultivar variet</td>\n",
       "      <td>South America</td>\n",
       "    </tr>\n",
       "    <tr>\n",
       "      <th>2</th>\n",
       "      <td>K’undo Berebere</td>\n",
       "      <td>Black Pepper</td>\n",
       "      <td>Piper nigrum</td>\n",
       "      <td>Indian Subcontinent</td>\n",
       "    </tr>\n",
       "    <tr>\n",
       "      <th>3</th>\n",
       "      <td>Kemun</td>\n",
       "      <td>Cumin</td>\n",
       "      <td>Cuminum cyminum</td>\n",
       "      <td>Mediterranean</td>\n",
       "    </tr>\n",
       "    <tr>\n",
       "      <th>4</th>\n",
       "      <td>Kewrerima</td>\n",
       "      <td>False Cardamom, Grain of Paradise</td>\n",
       "      <td>Aframomum melegueta</td>\n",
       "      <td>West Africa</td>\n",
       "    </tr>\n",
       "  </tbody>\n",
       "</table>\n",
       "</div>"
      ],
      "text/plain": [
       "      AMHARIC NAME                         INGREDIENT  \\\n",
       "0      Netch Azmud              Bishop’s Weed, Ajowan   \n",
       "1         Mit’mita  African birdseye pepper, periperi   \n",
       "2  K’undo Berebere                       Black Pepper   \n",
       "3            Kemun                              Cumin   \n",
       "4        Kewrerima  False Cardamom, Grain of Paradise   \n",
       "\n",
       "                             LATIN NAME               ORIGIN  \n",
       "0                    Trachyspermum ammi                 Asia  \n",
       "1  Capsicum frutescens (cultivar variet        South America  \n",
       "2                          Piper nigrum  Indian Subcontinent  \n",
       "3                       Cuminum cyminum        Mediterranean  \n",
       "4                   Aframomum melegueta          West Africa  "
      ]
     },
     "execution_count": 102,
     "metadata": {},
     "output_type": "execute_result"
    }
   ],
   "source": [
    "# Convert the dataframe to an XlsxWriter Excel object.\n",
    "df.to_excel(writer, sheet_name='EssentialIngredients')\n",
    "writer.save()\n",
    "#read source sheet\n",
    "pd.read_excel('Spice_List_Price_US.xlsx',sheetname='EssentialIngredients').head()"
   ]
  },
  {
   "cell_type": "code",
   "execution_count": 139,
   "metadata": {
    "collapsed": true
   },
   "outputs": [],
   "source": [
    "#3rd data source read html\n",
    "page = requests.get('https://www.brundo.com/collections/spices?sort_by=title-ascending')\n",
    "tree = html.fromstring(page.content)\n",
    "#This will create a list of products:\n",
    "product = tree.xpath('//span[@class=\"title\"]/text()')\n",
    "#This will create a list of prices\n",
    "prices = tree.xpath('//span[@class=\"money\"]/text()')"
   ]
  },
  {
   "cell_type": "code",
   "execution_count": 140,
   "metadata": {
    "collapsed": false
   },
   "outputs": [
    {
     "data": {
      "text/plain": [
       "[None, None, None, None, None, None, None, None]"
      ]
     },
     "execution_count": 140,
     "metadata": {},
     "output_type": "execute_result"
    }
   ],
   "source": [
    "#extract other spices from different pages\n",
    "page = requests.get('https://www.brundo.com/collections/chilli-pepper')\n",
    "tree = html.fromstring(page.content)\n",
    "#Append to product list \n",
    "[product.append(aprod) for aprod in tree.xpath('//span[@class=\"title\"]/text()')]\n",
    "#Append to list of prices\n",
    "[prices.append(aprice) for aprice in tree.xpath('//span[@class=\"money\"]/text()')]"
   ]
  },
  {
   "cell_type": "code",
   "execution_count": 141,
   "metadata": {
    "collapsed": false
   },
   "outputs": [
    {
     "data": {
      "text/plain": [
       "['$ 5.95',\n",
       " '$ 6.95',\n",
       " '$ 4.95',\n",
       " '$ 4.95',\n",
       " '$ 6.95',\n",
       " '$ 6.95',\n",
       " '$ 5.95',\n",
       " '$ 5.95']"
      ]
     },
     "execution_count": 141,
     "metadata": {},
     "output_type": "execute_result"
    }
   ],
   "source": [
    "tree.xpath('//span[@class=\"money\"]/text()')"
   ]
  },
  {
   "cell_type": "code",
   "execution_count": 142,
   "metadata": {
    "collapsed": false
   },
   "outputs": [
    {
     "data": {
      "text/plain": [
       "[u'Abish | \\u12a0\\u1265\\u1238 - Fenugreek',\n",
       " u'Bessobela | \\u1260\\u1236\\u1265\\u120b - Ethiopian Sacred Basil',\n",
       " u'Dimbilal | \\u12f5\\u1295\\u1265\\u120b\\u120d',\n",
       " 'Essential Spice Blends (5 M)',\n",
       " u'Ird | \\u12a5\\u122d\\u12f5 - Turmeric',\n",
       " u'Kosseret | \\u12ae\\u1230\\u1228\\u1275 - Butter Clarifying Herb',\n",
       " u'Mekelesha | \\u1218\\u12a8\\u1208\\u123b - Finishing Spice Mix',\n",
       " u'Netch Azmud | \\u1290\\u132d \\u12a0\\u12dd\\u1219\\u12f5 - White Cumin Seed',\n",
       " u'Senafitch | \\u1230\\u1293\\u134d\\u127d - Mustard Seed',\n",
       " u'Tikur Azmud | \\u1325\\u1241\\u122d \\u12a0\\u12dd\\u1219\\u12f5 - Black Cumin',\n",
       " u'Tossegen | \\u1326\\u1235\\u129d - Ethiopian Thyme',\n",
       " u'Berbere | \\u1260\\u122d\\u1260\\u122c - Hot Chili Pepper Blend',\n",
       " u'Mitmita | \\u121a\\u1325\\u121a\\u1323 - Hot Chili  Blend',\n",
       " u'Awaze |  \\u12a0\\u12cb\\u12dc - Chili Pepper Paste',\n",
       " u'Afrenje | \\u12a0\\u134d\\u122d\\u1295\\u1305 - Pepper Seed']"
      ]
     },
     "execution_count": 142,
     "metadata": {},
     "output_type": "execute_result"
    }
   ],
   "source": [
    "product"
   ]
  },
  {
   "cell_type": "code",
   "execution_count": 143,
   "metadata": {
    "collapsed": false
   },
   "outputs": [
    {
     "data": {
      "text/plain": [
       "'Essential Spice Blends (5 M)'"
      ]
     },
     "execution_count": 143,
     "metadata": {},
     "output_type": "execute_result"
    }
   ],
   "source": [
    "product[3].strip()"
   ]
  },
  {
   "cell_type": "code",
   "execution_count": 144,
   "metadata": {
    "collapsed": false
   },
   "outputs": [
    {
     "name": "stdout",
     "output_type": "stream",
     "text": [
      "Spice is: Abish \n",
      "Price is: 6.95\n"
     ]
    }
   ],
   "source": [
    "#extract amharic and english name\n",
    "product_name=[]\n",
    "english_name=[]\n",
    "for prod in product:\n",
    "    if '|' in prod:\n",
    "        product_name.append(prod.split('|')[0])\n",
    "    else:\n",
    "        product_name.append(prod.strip())\n",
    "    if '-' in prod:\n",
    "        english_name.append(prod.split('-')[-1]) \n",
    "    else:\n",
    "        english_name.append('None')\n",
    "#extract float number from price\n",
    "price=[float(aprice.split()[1]) for aprice in prices]\n",
    "#duplicate prices, take every other price\n",
    "prices=price[0::2]\n",
    "print 'Spice is: %s'% product_name[0]\n",
    "print 'Price is: %s' % price[0]"
   ]
  },
  {
   "cell_type": "code",
   "execution_count": 145,
   "metadata": {
    "collapsed": false
   },
   "outputs": [
    {
     "data": {
      "text/html": [
       "<div>\n",
       "<table border=\"1\" class=\"dataframe\">\n",
       "  <thead>\n",
       "    <tr style=\"text-align: right;\">\n",
       "      <th></th>\n",
       "      <th>spice</th>\n",
       "      <th>english_name</th>\n",
       "      <th>price</th>\n",
       "    </tr>\n",
       "  </thead>\n",
       "  <tbody>\n",
       "    <tr>\n",
       "      <th>0</th>\n",
       "      <td>Abish</td>\n",
       "      <td>Fenugreek</td>\n",
       "      <td>6.95</td>\n",
       "    </tr>\n",
       "    <tr>\n",
       "      <th>1</th>\n",
       "      <td>Bessobela</td>\n",
       "      <td>Ethiopian Sacred Basil</td>\n",
       "      <td>7.95</td>\n",
       "    </tr>\n",
       "  </tbody>\n",
       "</table>\n",
       "</div>"
      ],
      "text/plain": [
       "        spice             english_name  price\n",
       "0      Abish                 Fenugreek   6.95\n",
       "1  Bessobela    Ethiopian Sacred Basil   7.95"
      ]
     },
     "execution_count": 145,
     "metadata": {},
     "output_type": "execute_result"
    }
   ],
   "source": [
    "#create df\n",
    "df=pd.DataFrame({'spice': product_name,\n",
    "               'english_name': english_name,\n",
    "               'price': prices}, columns=['spice','english_name', 'price'])\n",
    "df.head(2)"
   ]
  },
  {
   "cell_type": "code",
   "execution_count": 146,
   "metadata": {
    "collapsed": false
   },
   "outputs": [
    {
     "data": {
      "text/plain": [
       "0                           Abish \n",
       "1                       Bessobela \n",
       "2                        Dimbilal \n",
       "3     Essential Spice Blends (5 M)\n",
       "4                             Ird \n",
       "5                        Kosseret \n",
       "6                       Mekelesha \n",
       "7                     Netch Azmud \n",
       "8                       Senafitch \n",
       "9                     Tikur Azmud \n",
       "10                       Tossegen \n",
       "11                        Berbere \n",
       "12                        Mitmita \n",
       "13                          Awaze \n",
       "14                        Afrenje \n",
       "Name: spice, dtype: object"
      ]
     },
     "execution_count": 146,
     "metadata": {},
     "output_type": "execute_result"
    }
   ],
   "source": [
    "df['spice']"
   ]
  },
  {
   "cell_type": "code",
   "execution_count": 147,
   "metadata": {
    "collapsed": true
   },
   "outputs": [],
   "source": [
    "#create unit size column\n",
    "df['unit size'] = ['8oz','4oz','2oz','10oz','8oz','2oz','2oz','None','2oz','2oz','2oz','4oz','2oz','4oz','8oz']"
   ]
  },
  {
   "cell_type": "code",
   "execution_count": 148,
   "metadata": {
    "collapsed": true
   },
   "outputs": [],
   "source": [
    "#save df as new sheet\n",
    "df.to_excel(writer, sheet_name='brundo.com')\n",
    "writer.save()"
   ]
  },
  {
   "cell_type": "code",
   "execution_count": 149,
   "metadata": {
    "collapsed": false
   },
   "outputs": [],
   "source": [
    "#add new source code for df\n",
    "source_df= pd.read_excel('Spice_List_Price_US.xlsx',sheetname='Source')"
   ]
  },
  {
   "cell_type": "code",
   "execution_count": 150,
   "metadata": {
    "collapsed": false
   },
   "outputs": [],
   "source": [
    "_dict= {'name': 'Brundo Market',\n",
    "                       'source':'brundo.com',\n",
    "                       'email':'info@brundo.com',\n",
    "                       'phone': '(510) 601-7999',\n",
    "                       'delivery_time_days': 'none'}\n",
    "#source = pd.DataFrame({k: [v] for k, v in _dict.items()},columns=['name','source','email','phone','delivery_time_days'])"
   ]
  },
  {
   "cell_type": "code",
   "execution_count": 151,
   "metadata": {
    "collapsed": false
   },
   "outputs": [],
   "source": [
    "sourcedf=source_df.append(_dict, ignore_index=True)"
   ]
  },
  {
   "cell_type": "code",
   "execution_count": 152,
   "metadata": {
    "collapsed": true
   },
   "outputs": [],
   "source": [
    "#save updated source \n",
    "sourcedf.to_excel(writer, sheet_name='Source')\n",
    "writer.save()"
   ]
  },
  {
   "cell_type": "code",
   "execution_count": 153,
   "metadata": {
    "collapsed": false
   },
   "outputs": [
    {
     "data": {
      "text/html": [
       "<div>\n",
       "<table border=\"1\" class=\"dataframe\">\n",
       "  <thead>\n",
       "    <tr style=\"text-align: right;\">\n",
       "      <th></th>\n",
       "      <th>name</th>\n",
       "      <th>source</th>\n",
       "      <th>email</th>\n",
       "      <th>phone</th>\n",
       "      <th>delivery_time_days</th>\n",
       "    </tr>\n",
       "  </thead>\n",
       "  <tbody>\n",
       "    <tr>\n",
       "      <th>0</th>\n",
       "      <td>Ethio Imports LLC</td>\n",
       "      <td>ethiopianspices.com</td>\n",
       "      <td>ethiospiceimports@gmail.com</td>\n",
       "      <td>502-459-6301/502-243-5472</td>\n",
       "      <td>3-7</td>\n",
       "    </tr>\n",
       "    <tr>\n",
       "      <th>1</th>\n",
       "      <td>Brundo Market</td>\n",
       "      <td>brundo.com</td>\n",
       "      <td>info@brundo.com</td>\n",
       "      <td>(510) 601-7999</td>\n",
       "      <td>none</td>\n",
       "    </tr>\n",
       "    <tr>\n",
       "      <th>2</th>\n",
       "      <td>Brundo Market</td>\n",
       "      <td>brundo.com</td>\n",
       "      <td>info@brundo.com</td>\n",
       "      <td>(510) 601-7999</td>\n",
       "      <td>none</td>\n",
       "    </tr>\n",
       "  </tbody>\n",
       "</table>\n",
       "</div>"
      ],
      "text/plain": [
       "                name               source                        email  \\\n",
       "0  Ethio Imports LLC  ethiopianspices.com  ethiospiceimports@gmail.com   \n",
       "1      Brundo Market           brundo.com              info@brundo.com   \n",
       "2      Brundo Market           brundo.com              info@brundo.com   \n",
       "\n",
       "                       phone delivery_time_days  \n",
       "0  502-459-6301/502-243-5472                3-7  \n",
       "1             (510) 601-7999               none  \n",
       "2             (510) 601-7999               none  "
      ]
     },
     "execution_count": 153,
     "metadata": {},
     "output_type": "execute_result"
    }
   ],
   "source": [
    "sourcedf"
   ]
  },
  {
   "cell_type": "code",
   "execution_count": 154,
   "metadata": {
    "collapsed": false
   },
   "outputs": [
    {
     "data": {
      "text/html": [
       "<div>\n",
       "<table border=\"1\" class=\"dataframe\">\n",
       "  <thead>\n",
       "    <tr style=\"text-align: right;\">\n",
       "      <th></th>\n",
       "      <th>spice</th>\n",
       "      <th>english_name</th>\n",
       "      <th>price</th>\n",
       "      <th>unit size</th>\n",
       "    </tr>\n",
       "  </thead>\n",
       "  <tbody>\n",
       "    <tr>\n",
       "      <th>0</th>\n",
       "      <td>Abish</td>\n",
       "      <td>Fenugreek</td>\n",
       "      <td>6.95</td>\n",
       "      <td>8oz</td>\n",
       "    </tr>\n",
       "    <tr>\n",
       "      <th>1</th>\n",
       "      <td>Bessobela</td>\n",
       "      <td>Ethiopian Sacred Basil</td>\n",
       "      <td>7.95</td>\n",
       "      <td>4oz</td>\n",
       "    </tr>\n",
       "  </tbody>\n",
       "</table>\n",
       "</div>"
      ],
      "text/plain": [
       "        spice             english_name  price unit size\n",
       "0      Abish                 Fenugreek   6.95       8oz\n",
       "1  Bessobela    Ethiopian Sacred Basil   7.95       4oz"
      ]
     },
     "execution_count": 154,
     "metadata": {},
     "output_type": "execute_result"
    }
   ],
   "source": [
    "pd.read_excel('Spice_List_Price_US.xlsx',sheetname='brundo.com').head(2)"
   ]
  },
  {
   "cell_type": "code",
   "execution_count": 155,
   "metadata": {
    "collapsed": false
   },
   "outputs": [
    {
     "data": {
      "text/html": [
       "<div>\n",
       "<table border=\"1\" class=\"dataframe\">\n",
       "  <thead>\n",
       "    <tr style=\"text-align: right;\">\n",
       "      <th></th>\n",
       "      <th>spice</th>\n",
       "      <th>english_name</th>\n",
       "      <th>price</th>\n",
       "      <th>unit size</th>\n",
       "    </tr>\n",
       "  </thead>\n",
       "  <tbody>\n",
       "    <tr>\n",
       "      <th>0</th>\n",
       "      <td>Abish</td>\n",
       "      <td>Fenugreek</td>\n",
       "      <td>6.95</td>\n",
       "      <td>8oz</td>\n",
       "    </tr>\n",
       "    <tr>\n",
       "      <th>1</th>\n",
       "      <td>Bessobela</td>\n",
       "      <td>Ethiopian Sacred Basil</td>\n",
       "      <td>7.95</td>\n",
       "      <td>4oz</td>\n",
       "    </tr>\n",
       "    <tr>\n",
       "      <th>2</th>\n",
       "      <td>Dimbilal</td>\n",
       "      <td>None</td>\n",
       "      <td>4.95</td>\n",
       "      <td>2oz</td>\n",
       "    </tr>\n",
       "    <tr>\n",
       "      <th>3</th>\n",
       "      <td>Essential Spice Blends (5 M)</td>\n",
       "      <td>None</td>\n",
       "      <td>24.99</td>\n",
       "      <td>10oz</td>\n",
       "    </tr>\n",
       "    <tr>\n",
       "      <th>4</th>\n",
       "      <td>Ird</td>\n",
       "      <td>Turmeric</td>\n",
       "      <td>14.95</td>\n",
       "      <td>8oz</td>\n",
       "    </tr>\n",
       "    <tr>\n",
       "      <th>5</th>\n",
       "      <td>Kosseret</td>\n",
       "      <td>Butter Clarifying Herb</td>\n",
       "      <td>5.95</td>\n",
       "      <td>2oz</td>\n",
       "    </tr>\n",
       "    <tr>\n",
       "      <th>6</th>\n",
       "      <td>Mekelesha</td>\n",
       "      <td>Finishing Spice Mix</td>\n",
       "      <td>7.95</td>\n",
       "      <td>2oz</td>\n",
       "    </tr>\n",
       "    <tr>\n",
       "      <th>7</th>\n",
       "      <td>Netch Azmud</td>\n",
       "      <td>White Cumin Seed</td>\n",
       "      <td>13.95</td>\n",
       "      <td>None</td>\n",
       "    </tr>\n",
       "    <tr>\n",
       "      <th>8</th>\n",
       "      <td>Senafitch</td>\n",
       "      <td>Mustard Seed</td>\n",
       "      <td>4.95</td>\n",
       "      <td>2oz</td>\n",
       "    </tr>\n",
       "    <tr>\n",
       "      <th>9</th>\n",
       "      <td>Tikur Azmud</td>\n",
       "      <td>Black Cumin</td>\n",
       "      <td>7.95</td>\n",
       "      <td>2oz</td>\n",
       "    </tr>\n",
       "    <tr>\n",
       "      <th>10</th>\n",
       "      <td>Tossegen</td>\n",
       "      <td>Ethiopian Thyme</td>\n",
       "      <td>4.95</td>\n",
       "      <td>2oz</td>\n",
       "    </tr>\n",
       "    <tr>\n",
       "      <th>11</th>\n",
       "      <td>Berbere</td>\n",
       "      <td>Hot Chili Pepper Blend</td>\n",
       "      <td>5.95</td>\n",
       "      <td>4oz</td>\n",
       "    </tr>\n",
       "    <tr>\n",
       "      <th>12</th>\n",
       "      <td>Mitmita</td>\n",
       "      <td>Hot Chili  Blend</td>\n",
       "      <td>4.95</td>\n",
       "      <td>2oz</td>\n",
       "    </tr>\n",
       "    <tr>\n",
       "      <th>13</th>\n",
       "      <td>Awaze</td>\n",
       "      <td>Chili Pepper Paste</td>\n",
       "      <td>6.95</td>\n",
       "      <td>4oz</td>\n",
       "    </tr>\n",
       "    <tr>\n",
       "      <th>14</th>\n",
       "      <td>Afrenje</td>\n",
       "      <td>Pepper Seed</td>\n",
       "      <td>5.95</td>\n",
       "      <td>8oz</td>\n",
       "    </tr>\n",
       "  </tbody>\n",
       "</table>\n",
       "</div>"
      ],
      "text/plain": [
       "                           spice             english_name  price unit size\n",
       "0                         Abish                 Fenugreek   6.95       8oz\n",
       "1                     Bessobela    Ethiopian Sacred Basil   7.95       4oz\n",
       "2                      Dimbilal                      None   4.95       2oz\n",
       "3   Essential Spice Blends (5 M)                     None  24.99      10oz\n",
       "4                           Ird                  Turmeric  14.95       8oz\n",
       "5                      Kosseret    Butter Clarifying Herb   5.95       2oz\n",
       "6                     Mekelesha       Finishing Spice Mix   7.95       2oz\n",
       "7                   Netch Azmud          White Cumin Seed  13.95      None\n",
       "8                     Senafitch              Mustard Seed   4.95       2oz\n",
       "9                   Tikur Azmud               Black Cumin   7.95       2oz\n",
       "10                     Tossegen           Ethiopian Thyme   4.95       2oz\n",
       "11                      Berbere    Hot Chili Pepper Blend   5.95       4oz\n",
       "12                      Mitmita          Hot Chili  Blend   4.95       2oz\n",
       "13                        Awaze        Chili Pepper Paste   6.95       4oz\n",
       "14                      Afrenje               Pepper Seed   5.95       8oz"
      ]
     },
     "execution_count": 155,
     "metadata": {},
     "output_type": "execute_result"
    }
   ],
   "source": [
    "df"
   ]
  },
  {
   "cell_type": "code",
   "execution_count": 2,
   "metadata": {
    "collapsed": false
   },
   "outputs": [
    {
     "ename": "ImportError",
     "evalue": "No module named errors",
     "output_type": "error",
     "traceback": [
      "\u001b[0;31m---------------------------------------------------------------------------\u001b[0m",
      "\u001b[0;31mImportError\u001b[0m                               Traceback (most recent call last)",
      "\u001b[0;32m<ipython-input-2-ba51cc13a547>\u001b[0m in \u001b[0;36m<module>\u001b[0;34m()\u001b[0m\n\u001b[1;32m      1\u001b[0m \u001b[0;31m#import pdf\u001b[0m\u001b[0;34m\u001b[0m\u001b[0;34m\u001b[0m\u001b[0m\n\u001b[0;32m----> 2\u001b[0;31m \u001b[0;32mimport\u001b[0m \u001b[0mtabula\u001b[0m\u001b[0;34m\u001b[0m\u001b[0m\n\u001b[0m",
      "\u001b[0;32m//anaconda/lib/python2.7/site-packages/tabula/__init__.py\u001b[0m in \u001b[0;36m<module>\u001b[0;34m()\u001b[0m\n\u001b[0;32m----> 1\u001b[0;31m \u001b[0;32mfrom\u001b[0m \u001b[0;34m.\u001b[0m\u001b[0mwrapper\u001b[0m \u001b[0;32mimport\u001b[0m \u001b[0mread_pdf\u001b[0m\u001b[0;34m\u001b[0m\u001b[0m\n\u001b[0m\u001b[1;32m      2\u001b[0m \u001b[0;32mfrom\u001b[0m \u001b[0;34m.\u001b[0m\u001b[0mwrapper\u001b[0m \u001b[0;32mimport\u001b[0m \u001b[0mread_pdf_with_template\u001b[0m\u001b[0;34m\u001b[0m\u001b[0m\n\u001b[1;32m      3\u001b[0m \u001b[0;32mfrom\u001b[0m \u001b[0;34m.\u001b[0m\u001b[0mwrapper\u001b[0m \u001b[0;32mimport\u001b[0m \u001b[0mconvert_into\u001b[0m\u001b[0;34m\u001b[0m\u001b[0m\n\u001b[1;32m      4\u001b[0m \u001b[0;32mfrom\u001b[0m \u001b[0;34m.\u001b[0m\u001b[0mwrapper\u001b[0m \u001b[0;32mimport\u001b[0m \u001b[0mconvert_into_by_batch\u001b[0m\u001b[0;34m\u001b[0m\u001b[0m\n\u001b[1;32m      5\u001b[0m \u001b[0;32mfrom\u001b[0m \u001b[0;34m.\u001b[0m\u001b[0mutil\u001b[0m \u001b[0;32mimport\u001b[0m \u001b[0menvironment_info\u001b[0m\u001b[0;34m\u001b[0m\u001b[0m\n",
      "\u001b[0;32m//anaconda/lib/python2.7/site-packages/tabula/wrapper.py\u001b[0m in \u001b[0;36m<module>\u001b[0;34m()\u001b[0m\n\u001b[1;32m     22\u001b[0m \u001b[0;34m\u001b[0m\u001b[0m\n\u001b[1;32m     23\u001b[0m \u001b[0;32mfrom\u001b[0m \u001b[0;34m.\u001b[0m\u001b[0mutil\u001b[0m \u001b[0;32mimport\u001b[0m \u001b[0mdeprecated_option\u001b[0m\u001b[0;34m\u001b[0m\u001b[0m\n\u001b[0;32m---> 24\u001b[0;31m \u001b[0;32mfrom\u001b[0m \u001b[0;34m.\u001b[0m\u001b[0merrors\u001b[0m \u001b[0;32mimport\u001b[0m \u001b[0mCSVParseError\u001b[0m\u001b[0;34m,\u001b[0m \u001b[0mJavaNotFoundError\u001b[0m\u001b[0;34m\u001b[0m\u001b[0m\n\u001b[0m\u001b[1;32m     25\u001b[0m \u001b[0;32mfrom\u001b[0m \u001b[0;34m.\u001b[0m\u001b[0mfile_util\u001b[0m \u001b[0;32mimport\u001b[0m \u001b[0mlocalize_file\u001b[0m\u001b[0;34m\u001b[0m\u001b[0m\n\u001b[1;32m     26\u001b[0m \u001b[0;32mfrom\u001b[0m \u001b[0;34m.\u001b[0m\u001b[0mtemplate\u001b[0m \u001b[0;32mimport\u001b[0m \u001b[0mload_template\u001b[0m\u001b[0;34m\u001b[0m\u001b[0m\n",
      "\u001b[0;32m//anaconda/lib/python2.7/site-packages/tabula/errors/__init__.py\u001b[0m in \u001b[0;36m<module>\u001b[0;34m()\u001b[0m\n\u001b[0;32m----> 1\u001b[0;31m \u001b[0;32mfrom\u001b[0m \u001b[0mpandas\u001b[0m\u001b[0;34m.\u001b[0m\u001b[0merrors\u001b[0m \u001b[0;32mimport\u001b[0m \u001b[0mParserError\u001b[0m\u001b[0;34m\u001b[0m\u001b[0m\n\u001b[0m\u001b[1;32m      2\u001b[0m \u001b[0;34m\u001b[0m\u001b[0m\n\u001b[1;32m      3\u001b[0m \u001b[0;34m\u001b[0m\u001b[0m\n\u001b[1;32m      4\u001b[0m \u001b[0;32mclass\u001b[0m \u001b[0mCSVParseError\u001b[0m\u001b[0;34m(\u001b[0m\u001b[0mParserError\u001b[0m\u001b[0;34m)\u001b[0m\u001b[0;34m:\u001b[0m\u001b[0;34m\u001b[0m\u001b[0m\n\u001b[1;32m      5\u001b[0m     \u001b[0;32mdef\u001b[0m \u001b[0m__init__\u001b[0m\u001b[0;34m(\u001b[0m\u001b[0mself\u001b[0m\u001b[0;34m,\u001b[0m \u001b[0mmessage\u001b[0m\u001b[0;34m,\u001b[0m \u001b[0mcause\u001b[0m\u001b[0;34m)\u001b[0m\u001b[0;34m:\u001b[0m\u001b[0;34m\u001b[0m\u001b[0m\n",
      "\u001b[0;31mImportError\u001b[0m: No module named errors"
     ]
    }
   ],
   "source": [
    "#import pdf \n",
    "import PyPDF2\n",
    "PDFfilename = \"example.pdf\" #filename of your PDF/directory where your PDF is stored\n",
    "pfr = PyPDF2.PdfFileReader(open(PDFfilename, \"rb\")) #PdfFileReader object\n"
   ]
  },
  {
   "cell_type": "code",
   "execution_count": null,
   "metadata": {
    "collapsed": true
   },
   "outputs": [],
   "source": []
  }
 ],
 "metadata": {
  "kernelspec": {
   "display_name": "Python 2",
   "language": "python",
   "name": "python2"
  },
  "language_info": {
   "codemirror_mode": {
    "name": "ipython",
    "version": 2
   },
   "file_extension": ".py",
   "mimetype": "text/x-python",
   "name": "python",
   "nbconvert_exporter": "python",
   "pygments_lexer": "ipython2",
   "version": "2.7.13"
  }
 },
 "nbformat": 4,
 "nbformat_minor": 0
}
