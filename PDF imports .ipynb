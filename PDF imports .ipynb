{
 "cells": [
  {
   "cell_type": "code",
   "execution_count": 12,
   "metadata": {
    "collapsed": false
   },
   "outputs": [],
   "source": [
    "#import pdf \n",
    "import PyPDF2\n",
    "PDFfilename = \"Market Profile on Spices- Ethiopia.pdf\" \n",
    "pfr = PyPDF2.PdfFileReader(open(PDFfilename, \"rb\")) #PdfFileReader object"
   ]
  },
  {
   "cell_type": "code",
   "execution_count": 13,
   "metadata": {
    "collapsed": true
   },
   "outputs": [],
   "source": [
    "#extract tables from pdf file\n",
    "pg6 = pfr.getPage(5) #extract pg 5\n",
    "pg7 = pfr.getPage(6) #extract pg 6"
   ]
  },
  {
   "cell_type": "code",
   "execution_count": 14,
   "metadata": {
    "collapsed": true
   },
   "outputs": [],
   "source": [
    "#create PdfFileWriter object\n",
    "writer = PyPDF2.PdfFileWriter() \n",
    "#add pages\n",
    "writer.addPage(pg6)\n",
    "writer.addPage(pg7)"
   ]
  },
  {
   "cell_type": "code",
   "execution_count": 15,
   "metadata": {
    "collapsed": false
   },
   "outputs": [],
   "source": [
    "#write pages to new pdf\n",
    "NewPDFfilename = \"spiceandorigin.pdf\" #filename of your PDF/directory where you want your new PDF to be\n",
    "with open(NewPDFfilename, \"wb\") as outputStream: #create new PDF\n",
    "    writer.write(outputStream) #write pages to new PDF"
   ]
  },
  {
   "cell_type": "code",
   "execution_count": 16,
   "metadata": {
    "collapsed": false
   },
   "outputs": [],
   "source": [
    "import requests \n",
    "\n",
    "def pdfToTable(PDFfilename, apiKey, fileExt, downloadDir):\n",
    "\n",
    "    #PDFfilename = 'spiceandorigin.pdf'\n",
    "\n",
    "    fileData = (PDFfilename, open(PDFfilename, 'rb')) #\"rb\" stands for \"read bytes\"\n",
    "\n",
    "    files = {'f': fileData} \n",
    "\n",
    "    #apiKey = \"reeejn68zr3e\" \n",
    "\n",
    "    #fileExt = \"csv\" #format/file extension of final document\n",
    "\n",
    "    postUrl = \"https://pdftables.com/api?key={0}&format={1}\".format(apiKey, fileExt)\n",
    "    #the .format puts value of apiKey where {0} is, etc\n",
    "\n",
    "    response = requests.post(postUrl, files=files)\n",
    "\n",
    "    response.raise_for_status() # ensure we notice bad responses\n",
    "\n",
    "    #downloadDir = \"spiceandorigin.csv\" #directory where you want your file downloaded to \n",
    "    with open(downloadDir, \"wb\") as f:\n",
    "        f.write(response.content) #write data to csv"
   ]
  },
  {
   "cell_type": "code",
   "execution_count": 17,
   "metadata": {
    "collapsed": false
   },
   "outputs": [],
   "source": [
    "pdfToTable('spiceandorigin.pdf',\"reeejn68zr3e\" , 'csv', 'spiceandoirigin.csv')"
   ]
  },
  {
   "cell_type": "code",
   "execution_count": 18,
   "metadata": {
    "collapsed": false
   },
   "outputs": [],
   "source": [
    "import pandas as pd\n",
    "df=pd.read_csv('spiceandoirigin.csv')"
   ]
  },
  {
   "cell_type": "code",
   "execution_count": 19,
   "metadata": {
    "collapsed": false
   },
   "outputs": [],
   "source": [
    "adict={'SNNP':{'area':df.iloc[12:24,2],\n",
    "               'production':df.iloc[12:24,3]},\n",
    "       'Oromia':{'area':df.iloc[12:24,4],\n",
    "               'production':df.iloc[12:24,5]},\n",
    "       'Amhara':{'area':df.iloc[12:24,6],\n",
    "               'production':df.iloc[12:24,7]\n",
    "                                           }}"
   ]
  },
  {
   "cell_type": "code",
   "execution_count": 20,
   "metadata": {
    "collapsed": false
   },
   "outputs": [
    {
     "data": {
      "text/plain": [
       "['Ginger',\n",
       " 'Pepper',\n",
       " 'Fenugree\\nk',\n",
       " 'Cardamo\\nm',\n",
       " 'Cumins',\n",
       " 'Turmeric',\n",
       " 'Black\\npepper',\n",
       " 'Coriande\\nr',\n",
       " 'Chilies',\n",
       " 'Sage',\n",
       " 'Cinnamo\\nn',\n",
       " 'Others']"
      ]
     },
     "execution_count": 20,
     "metadata": {},
     "output_type": "execute_result"
    }
   ],
   "source": [
    "#constract dataframe from dict\n",
    "df_1=pd.DataFrame.from_dict({(i,j): adict[i][j]\n",
    "    for i in adict.keys() \n",
    "    for j in adict[i].keys()})\n",
    "#extract list of spices\n",
    "spice_= df.iloc[12:24,1].tolist()\n",
    "spice_"
   ]
  },
  {
   "cell_type": "code",
   "execution_count": 21,
   "metadata": {
    "collapsed": false
   },
   "outputs": [
    {
     "data": {
      "text/plain": [
       "'Fenugreek'"
      ]
     },
     "execution_count": 21,
     "metadata": {},
     "output_type": "execute_result"
    }
   ],
   "source": [
    "#replace new lines \n",
    "spice_=[aspice.replace('\\n','') for aspice in spice_]\n",
    "spice_[2]"
   ]
  },
  {
   "cell_type": "code",
   "execution_count": 23,
   "metadata": {
    "collapsed": false
   },
   "outputs": [
    {
     "data": {
      "text/html": [
       "<div>\n",
       "<table border=\"1\" class=\"dataframe\">\n",
       "  <thead>\n",
       "    <tr>\n",
       "      <th></th>\n",
       "      <th colspan=\"2\" halign=\"left\">Amhara</th>\n",
       "      <th colspan=\"2\" halign=\"left\">Oromia</th>\n",
       "      <th colspan=\"2\" halign=\"left\">SNNP</th>\n",
       "    </tr>\n",
       "    <tr>\n",
       "      <th></th>\n",
       "      <th>area</th>\n",
       "      <th>production</th>\n",
       "      <th>area</th>\n",
       "      <th>production</th>\n",
       "      <th>area</th>\n",
       "      <th>production</th>\n",
       "    </tr>\n",
       "  </thead>\n",
       "  <tbody>\n",
       "    <tr>\n",
       "      <th>Ginger</th>\n",
       "      <td>3,371.9\\n0</td>\n",
       "      <td>-</td>\n",
       "      <td>120.59</td>\n",
       "      <td>3,154.00</td>\n",
       "      <td>3,250.\\n50</td>\n",
       "      <td>374,210.\\n00</td>\n",
       "    </tr>\n",
       "    <tr>\n",
       "      <th>Pepper</th>\n",
       "      <td>49,298.\\n05</td>\n",
       "      <td>148,524.\\n00</td>\n",
       "      <td>7,638.0\\n5</td>\n",
       "      <td>66,736.0\\n0</td>\n",
       "      <td>6,951.\\n00</td>\n",
       "      <td>85,718.0\\n0</td>\n",
       "    </tr>\n",
       "    <tr>\n",
       "      <th>Fenugreek</th>\n",
       "      <td>9,209.3\\n5</td>\n",
       "      <td>40,606.0\\n0</td>\n",
       "      <td>3,900.9\\n2</td>\n",
       "      <td>18,125.3\\n0</td>\n",
       "      <td>64.43</td>\n",
       "      <td>140.65</td>\n",
       "    </tr>\n",
       "    <tr>\n",
       "      <th>Cardamom</th>\n",
       "      <td>4,616.3\\n5</td>\n",
       "      <td>-</td>\n",
       "      <td>42.45</td>\n",
       "      <td>325.50</td>\n",
       "      <td>4,574.\\n50</td>\n",
       "      <td>55,927.0\\n0</td>\n",
       "    </tr>\n",
       "    <tr>\n",
       "      <th>Cumins</th>\n",
       "      <td>11,073.\\n26</td>\n",
       "      <td>32,610.\\n00</td>\n",
       "      <td>2,437.\\n26</td>\n",
       "      <td>8,805.0\\n0</td>\n",
       "      <td>162.0\\n0</td>\n",
       "      <td>597.00</td>\n",
       "    </tr>\n",
       "  </tbody>\n",
       "</table>\n",
       "</div>"
      ],
      "text/plain": [
       "                Amhara                    Oromia                     SNNP  \\\n",
       "                  area    production        area   production        area   \n",
       "Ginger      3,371.9\\n0             -      120.59     3,154.00  3,250.\\n50   \n",
       "Pepper     49,298.\\n05  148,524.\\n00  7,638.0\\n5  66,736.0\\n0  6,951.\\n00   \n",
       "Fenugreek   9,209.3\\n5   40,606.0\\n0  3,900.9\\n2  18,125.3\\n0       64.43   \n",
       "Cardamom    4,616.3\\n5             -       42.45       325.50  4,574.\\n50   \n",
       "Cumins     11,073.\\n26   32,610.\\n00  2,437.\\n26   8,805.0\\n0    162.0\\n0   \n",
       "\n",
       "                         \n",
       "             production  \n",
       "Ginger     374,210.\\n00  \n",
       "Pepper      85,718.0\\n0  \n",
       "Fenugreek        140.65  \n",
       "Cardamom    55,927.0\\n0  \n",
       "Cumins           597.00  "
      ]
     },
     "execution_count": 23,
     "metadata": {},
     "output_type": "execute_result"
    }
   ],
   "source": [
    "#set index to spice\n",
    "df_1.index=spice_\n",
    "df_1.head()"
   ]
  },
  {
   "cell_type": "code",
   "execution_count": 24,
   "metadata": {
    "collapsed": false
   },
   "outputs": [
    {
     "data": {
      "text/html": [
       "<div>\n",
       "<table border=\"1\" class=\"dataframe\">\n",
       "  <thead>\n",
       "    <tr>\n",
       "      <th></th>\n",
       "      <th colspan=\"2\" halign=\"left\">Amhara</th>\n",
       "      <th colspan=\"2\" halign=\"left\">Oromia</th>\n",
       "      <th colspan=\"2\" halign=\"left\">SNNP</th>\n",
       "    </tr>\n",
       "    <tr>\n",
       "      <th></th>\n",
       "      <th>area</th>\n",
       "      <th>production</th>\n",
       "      <th>area</th>\n",
       "      <th>production</th>\n",
       "      <th>area</th>\n",
       "      <th>production</th>\n",
       "    </tr>\n",
       "  </thead>\n",
       "  <tbody>\n",
       "    <tr>\n",
       "      <th>Ginger</th>\n",
       "      <td>3,371.90</td>\n",
       "      <td>-</td>\n",
       "      <td>120.59</td>\n",
       "      <td>3,154.00</td>\n",
       "      <td>3,250.50</td>\n",
       "      <td>374,210.00</td>\n",
       "    </tr>\n",
       "    <tr>\n",
       "      <th>Pepper</th>\n",
       "      <td>49,298.05</td>\n",
       "      <td>148,524.00</td>\n",
       "      <td>7,638.05</td>\n",
       "      <td>66,736.00</td>\n",
       "      <td>6,951.00</td>\n",
       "      <td>85,718.00</td>\n",
       "    </tr>\n",
       "    <tr>\n",
       "      <th>Fenugreek</th>\n",
       "      <td>9,209.35</td>\n",
       "      <td>40,606.00</td>\n",
       "      <td>3,900.92</td>\n",
       "      <td>18,125.30</td>\n",
       "      <td>64.43</td>\n",
       "      <td>140.65</td>\n",
       "    </tr>\n",
       "    <tr>\n",
       "      <th>Cardamom</th>\n",
       "      <td>4,616.35</td>\n",
       "      <td>-</td>\n",
       "      <td>42.45</td>\n",
       "      <td>325.50</td>\n",
       "      <td>4,574.50</td>\n",
       "      <td>55,927.00</td>\n",
       "    </tr>\n",
       "    <tr>\n",
       "      <th>Cumins</th>\n",
       "      <td>11,073.26</td>\n",
       "      <td>32,610.00</td>\n",
       "      <td>2,437.26</td>\n",
       "      <td>8,805.00</td>\n",
       "      <td>162.00</td>\n",
       "      <td>597.00</td>\n",
       "    </tr>\n",
       "  </tbody>\n",
       "</table>\n",
       "</div>"
      ],
      "text/plain": [
       "              Amhara                Oromia                 SNNP            \n",
       "                area  production      area production      area  production\n",
       "Ginger      3,371.90           -    120.59   3,154.00  3,250.50  374,210.00\n",
       "Pepper     49,298.05  148,524.00  7,638.05  66,736.00  6,951.00   85,718.00\n",
       "Fenugreek   9,209.35   40,606.00  3,900.92  18,125.30     64.43      140.65\n",
       "Cardamom    4,616.35           -     42.45     325.50  4,574.50   55,927.00\n",
       "Cumins     11,073.26   32,610.00  2,437.26   8,805.00    162.00      597.00"
      ]
     },
     "execution_count": 24,
     "metadata": {},
     "output_type": "execute_result"
    }
   ],
   "source": [
    "#remove new lines from rows\n",
    "df_1=df_1.replace('\\n','', regex=True)\n",
    "df_1.head()"
   ]
  },
  {
   "cell_type": "code",
   "execution_count": null,
   "metadata": {
    "collapsed": true
   },
   "outputs": [],
   "source": []
  }
 ],
 "metadata": {
  "kernelspec": {
   "display_name": "Python 2",
   "language": "python",
   "name": "python2"
  },
  "language_info": {
   "codemirror_mode": {
    "name": "ipython",
    "version": 2
   },
   "file_extension": ".py",
   "mimetype": "text/x-python",
   "name": "python",
   "nbconvert_exporter": "python",
   "pygments_lexer": "ipython2",
   "version": "2.7.13"
  }
 },
 "nbformat": 4,
 "nbformat_minor": 0
}
