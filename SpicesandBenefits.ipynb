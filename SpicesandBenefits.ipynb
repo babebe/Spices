{
 "cells": [
  {
   "cell_type": "code",
   "execution_count": 73,
   "metadata": {
    "collapsed": false
   },
   "outputs": [
    {
     "name": "stdout",
     "output_type": "stream",
     "text": [
      "<html>\r\n",
      "\r\n",
      "<head>\r\n",
      "<meta name=\"GENERATOR\" content=\"Microsoft FrontPage 5.0\">\r\n",
      "<meta name=\"ProgId\" content=\"FrontPage.Editor.Document\">\r\n",
      "<meta http-equiv=\"Content-Type\" content=\"text/html; charset=windo\n"
     ]
    }
   ],
   "source": [
    "from requests import get\n",
    "url = 'http://www.angelfire.com/planet/hawarya1/spices-ethiopia.htm'\n",
    "response = get(url)\n",
    "print(response.text[:200])"
   ]
  },
  {
   "cell_type": "code",
   "execution_count": 2,
   "metadata": {
    "collapsed": false
   },
   "outputs": [
    {
     "data": {
      "text/plain": [
       "bs4.BeautifulSoup"
      ]
     },
     "execution_count": 2,
     "metadata": {},
     "output_type": "execute_result"
    }
   ],
   "source": [
    "from bs4 import BeautifulSoup\n",
    "html_soup = BeautifulSoup(response.text, 'html.parser')\n",
    "type(html_soup)"
   ]
  },
  {
   "cell_type": "code",
   "execution_count": 33,
   "metadata": {
    "collapsed": false
   },
   "outputs": [
    {
     "name": "stdout",
     "output_type": "stream",
     "text": [
      "<class 'bs4.element.ResultSet'>\n",
      "120\n"
     ]
    }
   ],
   "source": [
    "spice_containers = html_soup.find_all('p', class_ = 'MsoNormal')\n",
    "print(type(spice_containers))\n",
    "print(len(spice_containers))"
   ]
  },
  {
   "cell_type": "code",
   "execution_count": 161,
   "metadata": {
    "collapsed": false
   },
   "outputs": [
    {
     "data": {
      "text/plain": [
       "<p class=\"MsoNormal\"><span style=\"font-size: 10.0pt; font-family: Arial Narrow\">\\r\\nN:\\xa0 <b>Abyssinian thyme/<u>Tosign</u></b>\\xa0 </span></p>"
      ]
     },
     "execution_count": 161,
     "metadata": {},
     "output_type": "execute_result"
    }
   ],
   "source": [
    "#let's look at the first ingredient-starts at 17\n",
    "first_spice = spice_containers[17]\n",
    "first_spice"
   ]
  },
  {
   "cell_type": "code",
   "execution_count": 164,
   "metadata": {
    "collapsed": false
   },
   "outputs": [
    {
     "name": "stdout",
     "output_type": "stream",
     "text": [
      "[u'Abyssinian thyme', u'Tosign']\n",
      "Tosign\n"
     ]
    }
   ],
   "source": [
    "#access the amharic name within <b> tag\n",
    "print first_spice.b.text\n",
    "#access the english name within <u> tag under the <b> tag\n",
    "print first_spice.b.u.text"
   ]
  },
  {
   "cell_type": "code",
   "execution_count": 52,
   "metadata": {
    "collapsed": false
   },
   "outputs": [
    {
     "data": {
      "text/plain": [
       "<p class=\"MsoNormal\" style=\"text-indent: -.25in; margin-left: .25in\">\\n<span style=\"font-size: 10.0pt; font-family: Arial Narrow\">C:\\xa0 Volatile \\r\\n(essential) oils including cymene, methylchevicol, borneol, cineole, terpinene, \\r\\nthymol, linalool, carvacol; flavonoids; triterpenes; tannins</span></p>"
      ]
     },
     "execution_count": 52,
     "metadata": {},
     "output_type": "execute_result"
    }
   ],
   "source": [
    "#let's look at the active ingredient list for the ingredient\n",
    "ingredient = spice_containers[18]\n",
    "ingredient"
   ]
  },
  {
   "cell_type": "code",
   "execution_count": 71,
   "metadata": {
    "collapsed": false
   },
   "outputs": [
    {
     "data": {
      "text/plain": [
       "u'C:\\xa0 Volatile \\r\\n(essential) oils including cymene, methylchevicol, borneol, cineole, terpinene, \\r\\nthymol, linalool, carvacol; flavonoids; triterpenes; tannins'"
      ]
     },
     "execution_count": 71,
     "metadata": {},
     "output_type": "execute_result"
    }
   ],
   "source": [
    "#access the description of ingredients inside the <span>\n",
    "ingredient.span.text"
   ]
  },
  {
   "cell_type": "code",
   "execution_count": 84,
   "metadata": {
    "collapsed": false
   },
   "outputs": [
    {
     "data": {
      "text/plain": [
       "u'Volatile (essential) oils including cymene, methylchevicol, borneol, cineole, terpinene, thymol, linalool, carvacol; flavonoids; triterpenes; tannins'"
      ]
     },
     "execution_count": 84,
     "metadata": {},
     "output_type": "execute_result"
    }
   ],
   "source": [
    "#strip string of non breaking space and newline \n",
    "ingredient.span.text.replace('\\r\\n','').replace(u'C:\\xa0 ',u'').strip()"
   ]
  },
  {
   "cell_type": "code",
   "execution_count": 75,
   "metadata": {
    "collapsed": false
   },
   "outputs": [
    {
     "data": {
      "text/plain": [
       "<p class=\"MsoNormal\" style=\"text-indent: -.25in; margin-left: .25in\">\\n<span style=\"font-size: 10.0pt; font-family: Arial Narrow\">B:\\xa0 For respiratory \\r\\nproblems (cough, bronchitis, soar throat), gastrointestinal disorders (colic, \\r\\ndyspepsia, gastritis, flatulence, diarrhea); halitosis; rheumatism; as appetite \\r\\nstimulant, diuretic, anthelminthic, [externally counterirritant, antimicrobial, \\r\\nanti-inflammatory certain skin disorders].\\xa0 </span></p>"
      ]
     },
     "execution_count": 75,
     "metadata": {},
     "output_type": "execute_result"
    }
   ],
   "source": [
    "#let's look at the health benifts for the ingredient\n",
    "benefit = spice_containers[19]\n",
    "benefit"
   ]
  },
  {
   "cell_type": "code",
   "execution_count": 77,
   "metadata": {
    "collapsed": false
   },
   "outputs": [
    {
     "data": {
      "text/plain": [
       "u'B:\\xa0 For respiratory \\r\\nproblems (cough, bronchitis, soar throat), gastrointestinal disorders (colic, \\r\\ndyspepsia, gastritis, flatulence, diarrhea); halitosis; rheumatism; as appetite \\r\\nstimulant, diuretic, anthelminthic, [externally counterirritant, antimicrobial, \\r\\nanti-inflammatory certain skin disorders].\\xa0 '"
      ]
     },
     "execution_count": 77,
     "metadata": {},
     "output_type": "execute_result"
    }
   ],
   "source": [
    "#access the description of benefits inside the <span>\n",
    "benefit.span.text"
   ]
  },
  {
   "cell_type": "code",
   "execution_count": 85,
   "metadata": {
    "collapsed": false
   },
   "outputs": [
    {
     "data": {
      "text/plain": [
       "u'For respiratory problems (cough, bronchitis, soar throat), gastrointestinal disorders (colic, dyspepsia, gastritis, flatulence, diarrhea); halitosis; rheumatism; as appetite stimulant, diuretic, anthelminthic, [externally counterirritant, antimicrobial, anti-inflammatory certain skin disorders].'"
      ]
     },
     "execution_count": 85,
     "metadata": {},
     "output_type": "execute_result"
    }
   ],
   "source": [
    "#strip string of non breaking space and newline \n",
    "benefit.span.text.replace('\\r\\n','').replace(u'B:\\xa0 ',u'').strip()"
   ]
  },
  {
   "cell_type": "code",
   "execution_count": 167,
   "metadata": {
    "collapsed": false
   },
   "outputs": [
    {
     "data": {
      "text/plain": [
       "(26, 26, 26, 26)"
      ]
     },
     "execution_count": 167,
     "metadata": {},
     "output_type": "execute_result"
    }
   ],
   "source": [
    "# create a function that creates 4 lists of spices with ingredients and benefits \n",
    "def spice_description(containers):\n",
    "    name=containers[17::4]\n",
    "    eng_name=[]\n",
    "    amh_name=[]    \n",
    "    for tag in name:\n",
    "        common_name=tag.b.text.strip()\n",
    "        eng_name.append(common_name.split('/')[0])\n",
    "        if not 'Not well defined' in common_name:\n",
    "            amh_name.append(tag.b.u.text.strip())\n",
    "        else:      \n",
    "            amh_name.append(None)       \n",
    "\n",
    "    desc=containers[18::4]\n",
    "    ingr=[]\n",
    "    for i in desc:\n",
    "        ingr.append(i.span.text.replace('\\r\\n','').replace(u'C:\\xa0 ',u'').strip())\n",
    "\n",
    "    hbenf=containers[19::4]  \n",
    "    benf=[]\n",
    "    for j in hbenf:\n",
    "        benf.append(j.span.text.replace('\\r\\n','').replace(u'B:\\xa0 ',u'').strip())\n",
    "\n",
    "\n",
    "    return eng_name, amh_name, ingr, benf\n",
    "\n",
    "english_name, amharic_name, ingredients_list, benefits = spice_description(spice_containers)\n",
    "#english_name    \n",
    "len(english_name),len(amharic_name),len(ingredients), len(benefits)\n"
   ]
  },
  {
   "cell_type": "code",
   "execution_count": 171,
   "metadata": {
    "collapsed": false
   },
   "outputs": [
    {
     "data": {
      "text/html": [
       "<div>\n",
       "<table border=\"1\" class=\"dataframe\">\n",
       "  <thead>\n",
       "    <tr style=\"text-align: right;\">\n",
       "      <th></th>\n",
       "      <th>spice</th>\n",
       "      <th>english_name</th>\n",
       "      <th>ingredients</th>\n",
       "      <th>benefits</th>\n",
       "    </tr>\n",
       "  </thead>\n",
       "  <tbody>\n",
       "    <tr>\n",
       "      <th>0</th>\n",
       "      <td>Tosign</td>\n",
       "      <td>Abyssinian thyme</td>\n",
       "      <td>Volatile (essential) oils including cymene, me...</td>\n",
       "      <td>For respiratory problems (cough, bronchitis, s...</td>\n",
       "    </tr>\n",
       "    <tr>\n",
       "      <th>1</th>\n",
       "      <td>Insilal</td>\n",
       "      <td>Anise</td>\n",
       "      <td>Volatile oils such as anethole, methylchavicol...</td>\n",
       "      <td>Carminative relieving flatulence, indigestion ...</td>\n",
       "    </tr>\n",
       "    <tr>\n",
       "      <th>2</th>\n",
       "      <td>Besobila</td>\n",
       "      <td>Basil</td>\n",
       "      <td>Volatile oils of various types: estragole, met...</td>\n",
       "      <td>Gastrointestinal problems; for colds; for peri...</td>\n",
       "    </tr>\n",
       "    <tr>\n",
       "      <th>3</th>\n",
       "      <td>Nech azmud</td>\n",
       "      <td>Bishops Weed</td>\n",
       "      <td>Furanocumarins, flavonoids, tannins</td>\n",
       "      <td>Carminative, generally calming the digestive s...</td>\n",
       "    </tr>\n",
       "    <tr>\n",
       "      <th>4</th>\n",
       "      <td>Tikur azmud</td>\n",
       "      <td>Black cumin or black seed</td>\n",
       "      <td>Volatile oils of various types, saponin; thymo...</td>\n",
       "      <td>Carminative relieving flatulence, stomach pain...</td>\n",
       "    </tr>\n",
       "  </tbody>\n",
       "</table>\n",
       "</div>"
      ],
      "text/plain": [
       "         spice               english_name  \\\n",
       "0       Tosign           Abyssinian thyme   \n",
       "1      Insilal                      Anise   \n",
       "2     Besobila                      Basil   \n",
       "3   Nech azmud              Bishops Weed   \n",
       "4  Tikur azmud  Black cumin or black seed   \n",
       "\n",
       "                                         ingredients  \\\n",
       "0  Volatile (essential) oils including cymene, me...   \n",
       "1  Volatile oils such as anethole, methylchavicol...   \n",
       "2  Volatile oils of various types: estragole, met...   \n",
       "3                Furanocumarins, flavonoids, tannins   \n",
       "4  Volatile oils of various types, saponin; thymo...   \n",
       "\n",
       "                                            benefits  \n",
       "0  For respiratory problems (cough, bronchitis, s...  \n",
       "1  Carminative relieving flatulence, indigestion ...  \n",
       "2  Gastrointestinal problems; for colds; for peri...  \n",
       "3  Carminative, generally calming the digestive s...  \n",
       "4  Carminative relieving flatulence, stomach pain...  "
      ]
     },
     "execution_count": 171,
     "metadata": {},
     "output_type": "execute_result"
    }
   ],
   "source": [
    "#create a df from lists\n",
    "import pandas as pd\n",
    "spice_benefits=pd.DataFrame({'spice': amharic_name,\n",
    "                            'english_name': english_name,\n",
    "                            'ingredients': ingredients_list,\n",
    "                            'benefits':benefits\n",
    "                            }, columns=['spice','english_name','ingredients','benefits'])\n",
    "spice_benefits.head()\n"
   ]
  },
  {
   "cell_type": "code",
   "execution_count": null,
   "metadata": {
    "collapsed": true
   },
   "outputs": [],
   "source": []
  }
 ],
 "metadata": {
  "kernelspec": {
   "display_name": "Python 2",
   "language": "python",
   "name": "python2"
  },
  "language_info": {
   "codemirror_mode": {
    "name": "ipython",
    "version": 2
   },
   "file_extension": ".py",
   "mimetype": "text/x-python",
   "name": "python",
   "nbconvert_exporter": "python",
   "pygments_lexer": "ipython2",
   "version": "2.7.13"
  }
 },
 "nbformat": 4,
 "nbformat_minor": 0
}
